{
 "cells": [
  {
   "cell_type": "code",
   "execution_count": 1,
   "id": "5991d4f0",
   "metadata": {},
   "outputs": [],
   "source": [
    "import csv\n",
    "import pandas as pd\n",
    "import plotly.figure_factory as ff\n",
    "import plotly.express as px\n",
    "from plotly.subplots import make_subplots\n",
    "import plotly.graph_objects as go\n",
    "import numpy as np"
   ]
  },
  {
   "cell_type": "code",
   "execution_count": 15,
   "id": "c8d26976",
   "metadata": {},
   "outputs": [
    {
     "name": "stdout",
     "output_type": "stream",
     "text": [
      "/home/ljb/Downloads/job_27469ef0-e146-4aac-a655-575a1013fe02.csv\n",
      "/home/ljb/Downloads/job_3328ed71-e01b-47c4-a2a9-be6276a59f08.csv\n",
      "/home/ljb/Downloads/job_3c081b1c-2215-42a1-bd7f-6e7395f087ad.csv\n",
      "/home/ljb/Downloads/job_71913fe0-d7bd-4740-a771-8afcd1356415.csv\n",
      "/home/ljb/Downloads/job_98d07a69-caba-4315-b14d-490ad5c2759a.csv\n",
      "/home/ljb/Downloads/job_eeaf7eac-110e-4594-97ad-c4659229169e.csv\n",
      "/home/ljb/Downloads/job_fd760c83-3db1-4595-b6e2-7ad2a02cca52.csv\n"
     ]
    }
   ],
   "source": [
    "!ls /home/ljb/Downloads/*.csv"
   ]
  },
  {
   "cell_type": "code",
   "execution_count": 16,
   "id": "1cd12dde",
   "metadata": {},
   "outputs": [],
   "source": [
    "results = \"/home/ljb/Downloads/job_eeaf7eac-110e-4594-97ad-c4659229169e.csv\"  # turtle_gridsearch # bad names"
   ]
  },
  {
   "cell_type": "code",
   "execution_count": 17,
   "id": "70837623",
   "metadata": {},
   "outputs": [
    {
     "data": {
      "text/html": [
       "<div>\n",
       "<style scoped>\n",
       "    .dataframe tbody tr th:only-of-type {\n",
       "        vertical-align: middle;\n",
       "    }\n",
       "\n",
       "    .dataframe tbody tr th {\n",
       "        vertical-align: top;\n",
       "    }\n",
       "\n",
       "    .dataframe thead th {\n",
       "        text-align: right;\n",
       "    }\n",
       "</style>\n",
       "<table border=\"1\" class=\"dataframe\">\n",
       "  <thead>\n",
       "    <tr style=\"text-align: right;\">\n",
       "      <th></th>\n",
       "      <th>scenario_id</th>\n",
       "      <th>scenario_name</th>\n",
       "      <th>metric:error_orientation_final_deg</th>\n",
       "      <th>metric:cummulated_distance_final_m</th>\n",
       "      <th>metric:cumulative_distance_final_m</th>\n",
       "      <th>metric:error_horizontal_final_m</th>\n",
       "      <th>metric:cumulated_distance_final_m</th>\n",
       "      <th>metric:time_delta_max_ms</th>\n",
       "    </tr>\n",
       "  </thead>\n",
       "  <tbody>\n",
       "    <tr>\n",
       "      <th>43</th>\n",
       "      <td>5_turtle_gridsearch_odom</td>\n",
       "      <td>turtle_gridsearch_odom</td>\n",
       "      <td>13.876281</td>\n",
       "      <td>20.40</td>\n",
       "      <td>NaN</td>\n",
       "      <td>1.629315</td>\n",
       "      <td>NaN</td>\n",
       "      <td>0.455618</td>\n",
       "    </tr>\n",
       "    <tr>\n",
       "      <th>44</th>\n",
       "      <td>6_turtle_gridsearch_odom</td>\n",
       "      <td>turtle_gridsearch_odom</td>\n",
       "      <td>38.027365</td>\n",
       "      <td>20.48</td>\n",
       "      <td>NaN</td>\n",
       "      <td>4.837369</td>\n",
       "      <td>NaN</td>\n",
       "      <td>0.411749</td>\n",
       "    </tr>\n",
       "    <tr>\n",
       "      <th>45</th>\n",
       "      <td>7_turtle_gridsearch_odom</td>\n",
       "      <td>turtle_gridsearch_odom</td>\n",
       "      <td>37.376912</td>\n",
       "      <td>20.40</td>\n",
       "      <td>NaN</td>\n",
       "      <td>4.830069</td>\n",
       "      <td>NaN</td>\n",
       "      <td>0.498056</td>\n",
       "    </tr>\n",
       "    <tr>\n",
       "      <th>46</th>\n",
       "      <td>8_turtle_gridsearch_odom</td>\n",
       "      <td>turtle_gridsearch_odom</td>\n",
       "      <td>0.923899</td>\n",
       "      <td>20.40</td>\n",
       "      <td>NaN</td>\n",
       "      <td>0.240754</td>\n",
       "      <td>NaN</td>\n",
       "      <td>0.649214</td>\n",
       "    </tr>\n",
       "    <tr>\n",
       "      <th>47</th>\n",
       "      <td>9_turtle_gridsearch_odom</td>\n",
       "      <td>turtle_gridsearch_odom</td>\n",
       "      <td>1.110862</td>\n",
       "      <td>20.40</td>\n",
       "      <td>NaN</td>\n",
       "      <td>0.189230</td>\n",
       "      <td>NaN</td>\n",
       "      <td>0.514746</td>\n",
       "    </tr>\n",
       "  </tbody>\n",
       "</table>\n",
       "</div>"
      ],
      "text/plain": [
       "                 scenario_id           scenario_name  \\\n",
       "43  5_turtle_gridsearch_odom  turtle_gridsearch_odom   \n",
       "44  6_turtle_gridsearch_odom  turtle_gridsearch_odom   \n",
       "45  7_turtle_gridsearch_odom  turtle_gridsearch_odom   \n",
       "46  8_turtle_gridsearch_odom  turtle_gridsearch_odom   \n",
       "47  9_turtle_gridsearch_odom  turtle_gridsearch_odom   \n",
       "\n",
       "    metric:error_orientation_final_deg  metric:cummulated_distance_final_m  \\\n",
       "43                           13.876281                               20.40   \n",
       "44                           38.027365                               20.48   \n",
       "45                           37.376912                               20.40   \n",
       "46                            0.923899                               20.40   \n",
       "47                            1.110862                               20.40   \n",
       "\n",
       "    metric:cumulative_distance_final_m  metric:error_horizontal_final_m  \\\n",
       "43                                 NaN                         1.629315   \n",
       "44                                 NaN                         4.837369   \n",
       "45                                 NaN                         4.830069   \n",
       "46                                 NaN                         0.240754   \n",
       "47                                 NaN                         0.189230   \n",
       "\n",
       "    metric:cumulated_distance_final_m  metric:time_delta_max_ms  \n",
       "43                                NaN                  0.455618  \n",
       "44                                NaN                  0.411749  \n",
       "45                                NaN                  0.498056  \n",
       "46                                NaN                  0.649214  \n",
       "47                                NaN                  0.514746  "
      ]
     },
     "execution_count": 17,
     "metadata": {},
     "output_type": "execute_result"
    }
   ],
   "source": [
    "df = pd.read_csv(results)\n",
    "df.tail()"
   ]
  },
  {
   "cell_type": "code",
   "execution_count": 30,
   "id": "589a32f0",
   "metadata": {},
   "outputs": [
    {
     "data": {
      "text/plain": [
       "Index(['metric:cummulated_distance_final_m',\n",
       "       'metric:cumulative_distance_final_m',\n",
       "       'metric:cumulated_distance_final_m'],\n",
       "      dtype='object')"
      ]
     },
     "execution_count": 30,
     "metadata": {},
     "output_type": "execute_result"
    }
   ],
   "source": [
    "df.columns[[3, 4, 6]]"
   ]
  },
  {
   "cell_type": "code",
   "execution_count": 27,
   "id": "74cdffac",
   "metadata": {},
   "outputs": [],
   "source": [
    "df['temp'] = df[df.columns[[3, 4, 6]]].apply(\n",
    "    lambda x: x.dropna()[0], axis=1\n",
    ")"
   ]
  },
  {
   "cell_type": "code",
   "execution_count": 29,
   "id": "56e28902",
   "metadata": {},
   "outputs": [],
   "source": [
    "df['metric:cumulative_distance_final_m'] = df['temp']"
   ]
  },
  {
   "cell_type": "code",
   "execution_count": 36,
   "id": "81b2b772",
   "metadata": {},
   "outputs": [],
   "source": [
    "df = df.drop(columns=df.columns[[3, 4, 6]], axis=1)"
   ]
  },
  {
   "cell_type": "code",
   "execution_count": 43,
   "id": "8aa63502",
   "metadata": {},
   "outputs": [
    {
     "data": {
      "text/html": [
       "<div>\n",
       "<style scoped>\n",
       "    .dataframe tbody tr th:only-of-type {\n",
       "        vertical-align: middle;\n",
       "    }\n",
       "\n",
       "    .dataframe tbody tr th {\n",
       "        vertical-align: top;\n",
       "    }\n",
       "\n",
       "    .dataframe thead th {\n",
       "        text-align: right;\n",
       "    }\n",
       "</style>\n",
       "<table border=\"1\" class=\"dataframe\">\n",
       "  <thead>\n",
       "    <tr style=\"text-align: right;\">\n",
       "      <th></th>\n",
       "      <th>scenario_id</th>\n",
       "      <th>scenario_name</th>\n",
       "      <th>metric:error_orientation_final_deg</th>\n",
       "      <th>metric:error_horizontal_final_m</th>\n",
       "      <th>metric:time_delta_max_ms</th>\n",
       "      <th>metric:cumulative_distance_final_m</th>\n",
       "    </tr>\n",
       "  </thead>\n",
       "  <tbody>\n",
       "    <tr>\n",
       "      <th>43</th>\n",
       "      <td>5_turtle_gridsearch_odom</td>\n",
       "      <td>turtle_gridsearch_odom</td>\n",
       "      <td>13.876281</td>\n",
       "      <td>1.629315</td>\n",
       "      <td>0.455618</td>\n",
       "      <td>20.40</td>\n",
       "    </tr>\n",
       "    <tr>\n",
       "      <th>44</th>\n",
       "      <td>6_turtle_gridsearch_odom</td>\n",
       "      <td>turtle_gridsearch_odom</td>\n",
       "      <td>38.027365</td>\n",
       "      <td>4.837369</td>\n",
       "      <td>0.411749</td>\n",
       "      <td>20.48</td>\n",
       "    </tr>\n",
       "    <tr>\n",
       "      <th>45</th>\n",
       "      <td>7_turtle_gridsearch_odom</td>\n",
       "      <td>turtle_gridsearch_odom</td>\n",
       "      <td>37.376912</td>\n",
       "      <td>4.830069</td>\n",
       "      <td>0.498056</td>\n",
       "      <td>20.40</td>\n",
       "    </tr>\n",
       "    <tr>\n",
       "      <th>46</th>\n",
       "      <td>8_turtle_gridsearch_odom</td>\n",
       "      <td>turtle_gridsearch_odom</td>\n",
       "      <td>0.923899</td>\n",
       "      <td>0.240754</td>\n",
       "      <td>0.649214</td>\n",
       "      <td>20.40</td>\n",
       "    </tr>\n",
       "    <tr>\n",
       "      <th>47</th>\n",
       "      <td>9_turtle_gridsearch_odom</td>\n",
       "      <td>turtle_gridsearch_odom</td>\n",
       "      <td>1.110862</td>\n",
       "      <td>0.189230</td>\n",
       "      <td>0.514746</td>\n",
       "      <td>20.40</td>\n",
       "    </tr>\n",
       "  </tbody>\n",
       "</table>\n",
       "</div>"
      ],
      "text/plain": [
       "                 scenario_id           scenario_name  \\\n",
       "43  5_turtle_gridsearch_odom  turtle_gridsearch_odom   \n",
       "44  6_turtle_gridsearch_odom  turtle_gridsearch_odom   \n",
       "45  7_turtle_gridsearch_odom  turtle_gridsearch_odom   \n",
       "46  8_turtle_gridsearch_odom  turtle_gridsearch_odom   \n",
       "47  9_turtle_gridsearch_odom  turtle_gridsearch_odom   \n",
       "\n",
       "    metric:error_orientation_final_deg  metric:error_horizontal_final_m  \\\n",
       "43                           13.876281                         1.629315   \n",
       "44                           38.027365                         4.837369   \n",
       "45                           37.376912                         4.830069   \n",
       "46                            0.923899                         0.240754   \n",
       "47                            1.110862                         0.189230   \n",
       "\n",
       "    metric:time_delta_max_ms  metric:cumulative_distance_final_m  \n",
       "43                  0.455618                               20.40  \n",
       "44                  0.411749                               20.48  \n",
       "45                  0.498056                               20.40  \n",
       "46                  0.649214                               20.40  \n",
       "47                  0.514746                               20.40  "
      ]
     },
     "execution_count": 43,
     "metadata": {},
     "output_type": "execute_result"
    }
   ],
   "source": [
    "df.tail()"
   ]
  },
  {
   "cell_type": "code",
   "execution_count": 42,
   "id": "751e4f5c",
   "metadata": {},
   "outputs": [],
   "source": [
    "df.rename(columns={'temp': 'metric:cumulative_distance_final_m'}, inplace=True)"
   ]
  },
  {
   "cell_type": "code",
   "execution_count": 44,
   "id": "62b13568",
   "metadata": {},
   "outputs": [
    {
     "data": {
      "application/vnd.plotly.v1+json": {
       "config": {
        "plotlyServerURL": "https://plot.ly"
       },
       "data": [
        {
         "alignmentgroup": "True",
         "boxpoints": "all",
         "hovertemplate": "metric:cumulative_distance_final_m=%{y}<extra></extra>",
         "legendgroup": "",
         "marker": {
          "color": "#636efa"
         },
         "name": "",
         "notched": false,
         "offsetgroup": "",
         "orientation": "v",
         "showlegend": false,
         "type": "box",
         "x0": " ",
         "xaxis": "x",
         "y": [
          20.39999999281918,
          20.39999999281918,
          20.399999992819534,
          20.079999584121943,
          20.39999999282011,
          20.399999938693878,
          20.399999938693878,
          20.39999999281918,
          20.319999761720723,
          20.31999976172081,
          20.399999938693878,
          20.39999999281918,
          20.399999938693878,
          20.39999999281918,
          20.319999761720723,
          20.39999999281918,
          20.399999992819534,
          20.31999970110125,
          20.39999999281918,
          20.399999992819534,
          20.39999999281918,
          20.39999999281918,
          20.399999938693878,
          20.319999761720723,
          20.399999938693878,
          20.39999999281918,
          20.39999993869419,
          20.399999938693878,
          20.31999976172081,
          20.399999938693878,
          20.39999999281918,
          20.39999993869419,
          20.39999993869419,
          20.399999938693878,
          20.399999938693878,
          20.39999999281918,
          20.39999999281918,
          20.319999761720723,
          20.479999854880045,
          20.39999999281918,
          20.399999992819534,
          20.31999976172081,
          20.39999999281918,
          20.399999992819534,
          20.479999854880045,
          20.399999938693878,
          20.39999999281918,
          20.39999999281918
         ],
         "y0": " ",
         "yaxis": "y"
        },
        {
         "alignmentgroup": "True",
         "boxpoints": "all",
         "hovertemplate": "metric:error_horizontal_final_m=%{y}<extra></extra>",
         "legendgroup": "",
         "marker": {
          "color": "#636efa"
         },
         "name": "",
         "notched": false,
         "offsetgroup": "",
         "orientation": "v",
         "showlegend": false,
         "type": "box",
         "x0": " ",
         "xaxis": "x2",
         "y": [
          0.0902369291191322,
          0.4384517639462004,
          0.3750755075838626,
          0.955351368941839,
          0.7209144261017881,
          0.9807569039428502,
          6.856775964886494,
          14.460492062406072,
          0.1255761567957414,
          0.2440996566395592,
          0.8410887800683982,
          1.8795563857344124,
          0.5768937600760317,
          0.7191011116080296,
          2.2445173202177835,
          1.987387629038396,
          14.425860752261269,
          0.0161285223359939,
          0.2758937496818166,
          0.5042864655684148,
          2.066343258562839,
          2.432580219682861,
          3.01479607469038,
          1.4872172095983958,
          6.51701287164646,
          12.060721142974318,
          0.448038588644953,
          0.3821364553818682,
          0.7232820898131642,
          1.1068010950858165,
          2.9036568939569585,
          0.315981271707225,
          7.812345964061001,
          7.103358687792031,
          1.0490076495460012,
          1.014442729381445,
          0.9845406923224952,
          1.3142932579253317,
          1.2398410310356782,
          0.8686965803425406,
          3.1019176389780863,
          7.646349956391229,
          13.651542305276616,
          1.6293147221572295,
          4.837369105382222,
          4.830068745949895,
          0.2407544951712795,
          0.1892304867739529
         ],
         "y0": " ",
         "yaxis": "y2"
        },
        {
         "alignmentgroup": "True",
         "boxpoints": "all",
         "hovertemplate": "metric:error_orientation_final_deg=%{y}<extra></extra>",
         "legendgroup": "",
         "marker": {
          "color": "#636efa"
         },
         "name": "",
         "notched": false,
         "offsetgroup": "",
         "orientation": "v",
         "showlegend": false,
         "type": "box",
         "x0": " ",
         "xaxis": "x3",
         "y": [
          0.2956105872781518,
          3.5098361389836223,
          1.870071643803641,
          8.342495505091124,
          5.776605169781604,
          7.82622199629737,
          62.79618378565966,
          177.9436399555406,
          0.6589561605553201,
          1.4192791585827995,
          7.580143940880151,
          14.48437236149584,
          4.976899300999831,
          4.606238595121579,
          17.859865509694483,
          16.93749627360845,
          155.71383990543947,
          0.6400297063652148,
          0.7744751499877458,
          3.698909435587915,
          17.090403718557525,
          22.491280182096727,
          23.47778489448918,
          11.646872723651592,
          53.712334425413474,
          121.15472878076493,
          0.3810357632275013,
          0.1479077464766261,
          4.248261550532041,
          12.873813755206834,
          23.21422155479673,
          2.9384839847228856,
          59.77806150276172,
          62.02262558856798,
          8.951809850758792,
          1.8069606958727236,
          0.3852021786212091,
          4.648421843435578,
          9.329956443967378,
          2.3062133732548054,
          16.48323405228924,
          72.67970144864718,
          169.50237308486192,
          13.876280619689604,
          38.02736507199113,
          37.37691249695248,
          0.9238991984601148,
          1.110861966610874
         ],
         "y0": " ",
         "yaxis": "y3"
        },
        {
         "alignmentgroup": "True",
         "boxpoints": "all",
         "hovertemplate": "metric:time_delta_max_ms=%{y}<extra></extra>",
         "legendgroup": "",
         "marker": {
          "color": "#636efa"
         },
         "name": "",
         "notched": false,
         "offsetgroup": "",
         "orientation": "v",
         "showlegend": false,
         "type": "box",
         "x0": " ",
         "xaxis": "x4",
         "y": [
          0.3716945648193359,
          0.4520416259765625,
          0.4758834838867187,
          0.5354881286621094,
          0.4687309265136719,
          0.5054473876953125,
          0.4973411560058594,
          15.882492065429688,
          0.5981922149658203,
          0.5366802215576172,
          0.4496574401855469,
          15.881776809692385,
          0.3385543823242187,
          0.4553794860839844,
          0.5738735198974609,
          15.90871810913086,
          0.4458427429199219,
          0.5104541778564453,
          0.4773139953613281,
          0.5278587341308594,
          0.5536079406738281,
          15.872955322265623,
          0.4587173461914062,
          15.931844711303713,
          0.4181861877441406,
          0.4703998565673828,
          0.4532337188720703,
          15.77305793762207,
          0.4618167877197265,
          0.4427433013916015,
          1.461505889892578,
          0.4529953002929687,
          15.854120254516602,
          0.452280044555664,
          0.6380081176757812,
          0.5209445953369141,
          0.5435943603515625,
          0.4682540893554687,
          0.4198551177978515,
          15.905141830444336,
          0.3840923309326172,
          0.5154609680175781,
          0.4849433898925781,
          0.4556179046630859,
          0.4117488861083984,
          0.498056411743164,
          0.6492137908935547,
          0.5147457122802734
         ],
         "y0": " ",
         "yaxis": "y4"
        }
       ],
       "layout": {
        "annotations": [
         {
          "font": {
           "size": 16
          },
          "showarrow": false,
          "text": "cumulative distance final (m) <br> std = 0.06 m",
          "x": 0.10625,
          "xanchor": "center",
          "xref": "paper",
          "y": 1,
          "yanchor": "bottom",
          "yref": "paper"
         },
         {
          "font": {
           "size": 16
          },
          "showarrow": false,
          "text": "error horizontal final (m) <br> std = 4 m",
          "x": 0.36875,
          "xanchor": "center",
          "xref": "paper",
          "y": 1,
          "yanchor": "bottom",
          "yref": "paper"
         },
         {
          "font": {
           "size": 16
          },
          "showarrow": false,
          "text": "error orientation final (deg) <br> std = 4e+01 deg",
          "x": 0.6312500000000001,
          "xanchor": "center",
          "xref": "paper",
          "y": 1,
          "yanchor": "bottom",
          "yref": "paper"
         },
         {
          "font": {
           "size": 16
          },
          "showarrow": false,
          "text": "time delta max (ms) <br> std = 6 ms",
          "x": 0.89375,
          "xanchor": "center",
          "xref": "paper",
          "y": 1,
          "yanchor": "bottom",
          "yref": "paper"
         }
        ],
        "template": {
         "data": {
          "pie": [
           {
            "automargin": true,
            "type": "pie"
           }
          ],
          "scatter": [
           {
            "line": {
             "width": 3
            },
            "marker": {
             "size": 9
            },
            "type": "scatter"
           }
          ],
          "scatter3d": [
           {
            "line": {
             "width": 3
            },
            "marker": {
             "size": 9
            },
            "type": "scatter3d"
           }
          ],
          "scattergeo": [
           {
            "line": {
             "width": 3
            },
            "marker": {
             "size": 9
            },
            "type": "scattergeo"
           }
          ],
          "scattergl": [
           {
            "line": {
             "width": 3
            },
            "marker": {
             "size": 9
            },
            "type": "scattergl"
           }
          ],
          "scatterpolar": [
           {
            "line": {
             "width": 3
            },
            "marker": {
             "size": 9
            },
            "type": "scatterpolar"
           }
          ],
          "scatterpolargl": [
           {
            "line": {
             "width": 3
            },
            "marker": {
             "size": 9
            },
            "type": "scatterpolargl"
           }
          ],
          "scatterternary": [
           {
            "line": {
             "width": 3
            },
            "marker": {
             "size": 9
            },
            "type": "scatterternary"
           }
          ],
          "table": [
           {
            "cells": {
             "height": 30
            },
            "header": {
             "height": 36
            },
            "type": "table"
           }
          ]
         },
         "layout": {
          "font": {
           "size": 18
          },
          "xaxis": {
           "title": {
            "standoff": 15
           }
          },
          "yaxis": {
           "title": {
            "standoff": 15
           }
          }
         }
        },
        "title": {
         "text": "Basic statistics for each metric"
        },
        "xaxis": {
         "anchor": "y",
         "domain": [
          0,
          0.2125
         ]
        },
        "xaxis2": {
         "anchor": "y2",
         "domain": [
          0.2625,
          0.475
         ]
        },
        "xaxis3": {
         "anchor": "y3",
         "domain": [
          0.525,
          0.7375
         ]
        },
        "xaxis4": {
         "anchor": "y4",
         "domain": [
          0.7875,
          1
         ]
        },
        "yaxis": {
         "anchor": "x",
         "domain": [
          0,
          1
         ]
        },
        "yaxis2": {
         "anchor": "x2",
         "domain": [
          0,
          1
         ]
        },
        "yaxis3": {
         "anchor": "x3",
         "domain": [
          0,
          1
         ]
        },
        "yaxis4": {
         "anchor": "x4",
         "domain": [
          0,
          1
         ]
        }
       }
      }
     },
     "metadata": {},
     "output_type": "display_data"
    }
   ],
   "source": [
    "# assumptions: \n",
    "# each metric name starts with 'metric:'\n",
    "# each metric name ends with underscore + the metric's unit: '_deg'\n",
    "metrics = sorted([m for m in df.columns if 'metric' in m])    # metric:time_delta_max_ms\n",
    "metric_names = [m.split(\"metric:\")[-1] for m in metrics]      # time_delta_max_ms\n",
    "metric_units = [f\"{n.split('_')[-1]}\" for n in metric_names]  # ms\n",
    "metric_titles = [f\"{' '.join(n.split('_')[:-1])} ({u})\" for n, u in zip(metric_names, metric_units)]  # time delta max (ms)\n",
    "metric_stds = [np.std(df[m]) for m in metrics]\n",
    "\n",
    "fig = make_subplots(\n",
    "    rows=1, \n",
    "    cols=len(metrics),\n",
    "    subplot_titles=[f\"{title} <br> std = {std:.1g} {unit}\" for title, std, unit in zip(metric_titles, metric_stds, metric_units)]\n",
    ")\n",
    "for i, metric in enumerate(metrics):\n",
    "    fig.add_trace(\n",
    "        px.box(\n",
    "            df, \n",
    "            y=metric, \n",
    "            points=\"all\",\n",
    "        )['data'][0],\n",
    "        row=1, col=i+1\n",
    "    )\n",
    "fig.update_layout(template='presentation', title=\"Basic statistics for each metric\")\n",
    "fig"
   ]
  },
  {
   "cell_type": "code",
   "execution_count": 18,
   "id": "c5c3eb3f",
   "metadata": {},
   "outputs": [
    {
     "data": {
      "application/vnd.plotly.v1+json": {
       "config": {
        "plotlyServerURL": "https://plot.ly"
       },
       "data": [
        {
         "alignmentgroup": "True",
         "boxpoints": "all",
         "hovertemplate": "metric:cummulated_distance_final_m=%{y}<extra></extra>",
         "legendgroup": "",
         "marker": {
          "color": "#636efa"
         },
         "name": "",
         "notched": false,
         "offsetgroup": "",
         "orientation": "v",
         "showlegend": false,
         "type": "box",
         "x0": " ",
         "xaxis": "x",
         "y": [
          20.399999938693878,
          20.399999992819534,
          20.319999761720723,
          20.079999584121943,
          20.39999999281918,
          20.39999999281918,
          20.399999992819534,
          20.399999992819534,
          20.319999761720723,
          20.39999999281918,
          20.399999938693878,
          20.39999999281918,
          20.31999976172081,
          20.31999976172081,
          20.39999999281918,
          20.399999938693878,
          20.39999999281918,
          20.399999938693878,
          20.319999761720723,
          20.31999976172081,
          20.39999999281918,
          20.39999999281918,
          20.39999999281918,
          20.399999938693878,
          20.39999999281918,
          20.399999992819534,
          20.399999938693878,
          20.31999976172081,
          20.319999761720723,
          20.31999976172081,
          20.399999992819534,
          20.399999938693878,
          20.399999938693878,
          20.39999999281918,
          20.479999854880045,
          20.399999938693878,
          20.399999938693878,
          20.399999992819534,
          20.39999999281918,
          20.399999992820074,
          20.39999999281918,
          20.319999761720723,
          20.399999938693878,
          20.399999992819534,
          20.479999854880045,
          20.319999761720723,
          20.479999854880045,
          20.31999976172081,
          20.31999976172081,
          20.39999999281918
         ],
         "y0": " ",
         "yaxis": "y"
        },
        {
         "alignmentgroup": "True",
         "boxpoints": "all",
         "hovertemplate": "metric:error_horizontal_final_m=%{y}<extra></extra>",
         "legendgroup": "",
         "marker": {
          "color": "#636efa"
         },
         "name": "",
         "notched": false,
         "offsetgroup": "",
         "orientation": "v",
         "showlegend": false,
         "type": "box",
         "x0": " ",
         "xaxis": "x2",
         "y": [
          0.1487813359328209,
          0.3936665312012505,
          0.3215987412105576,
          0.1932268204341519,
          0.4467661873279461,
          0.1781307189954717,
          0.1631755981356084,
          0.4344724140933659,
          0.2841662975068138,
          0.1976578982299198,
          0.2876328914972485,
          0.2881209995249771,
          0.2841401027483005,
          0.3794903334878264,
          0.1344001969448663,
          0.242897817279666,
          0.1692578263799211,
          0.1482607961565252,
          0.2812857703649356,
          0.1323231057216375,
          0.3737806372305415,
          0.1789131678974727,
          0.0330238659098739,
          0.2261269779607021,
          0.0675749680833258,
          0.0306215262475976,
          0.3276246264434517,
          0.2014674484730965,
          0.4748607884699617,
          0.246276625300433,
          0.1732356031337478,
          0.1474065268117683,
          0.577269923005192,
          0.3523689342329519,
          0.1309738895976371,
          0.2869725617590248,
          0.5851011077302669,
          0.691898930058837,
          0.0348335212724874,
          0.3346619345415678,
          0.2403145189274854,
          0.4090999813818566,
          0.2418298568770152,
          0.2292001157982141,
          0.1417035632373881,
          0.1595928560433346,
          0.2385926877891568,
          0.0265500224034442,
          0.3698536128865385,
          0.5984651589497088
         ],
         "y0": " ",
         "yaxis": "y2"
        },
        {
         "alignmentgroup": "True",
         "boxpoints": "all",
         "hovertemplate": "metric:error_orientation_final_deg=%{y}<extra></extra>",
         "legendgroup": "",
         "marker": {
          "color": "#636efa"
         },
         "name": "",
         "notched": false,
         "offsetgroup": "",
         "orientation": "v",
         "showlegend": false,
         "type": "box",
         "x0": " ",
         "xaxis": "x3",
         "y": [
          0.041274833154387,
          3.7151926065692256,
          3.914558998252728,
          2.8173437496035394,
          0.2211956762708629,
          2.179827552852889,
          1.322078736504348,
          2.2730664652127333,
          1.4868433898525657,
          2.409417531613698,
          1.5057288629076508,
          2.659033625020984,
          2.022050183025595,
          0.8271359084885441,
          1.55346505501687,
          1.3296602464830622,
          1.617259021864789,
          1.4466955379112307,
          1.755413258206637,
          0.159088766147937,
          2.604351130525862,
          1.4422764055182324,
          0.5676160407847396,
          0.2141947323715998,
          0.1621965022202928,
          0.1383659722061183,
          2.7791220110081483,
          1.890432437719449,
          2.700649967633872,
          1.311273377237388,
          0.6292926489899547,
          1.329516812510492,
          3.252467780868372,
          3.361730317021066,
          0.9939905997227856,
          0.1961903537194462,
          3.2950813311000813,
          2.6844214381659213,
          0.5143337350694702,
          1.404505459408062,
          1.866417492597684,
          1.3195310759439334,
          0.9244182928370356,
          0.7078329942559314,
          0.8859028561073339,
          0.5878402309171474,
          0.8043367370390415,
          1.7263371429098928,
          0.2836440958522895,
          2.9674986283171
         ],
         "y0": " ",
         "yaxis": "y3"
        },
        {
         "alignmentgroup": "True",
         "boxpoints": "all",
         "hovertemplate": "metric:time_delta_max_ms=%{y}<extra></extra>",
         "legendgroup": "",
         "marker": {
          "color": "#636efa"
         },
         "name": "",
         "notched": false,
         "offsetgroup": "",
         "orientation": "v",
         "showlegend": false,
         "type": "box",
         "x0": " ",
         "xaxis": "x4",
         "y": [
          0.5340576171875,
          0.4601478576660156,
          0.461578369140625,
          15.939950942993164,
          0.52642822265625,
          0.4603862762451172,
          0.5185604095458984,
          0.5590915679931641,
          0.4503726959228515,
          0.5331039428710938,
          0.5385875701904297,
          0.37384033203125,
          0.5218982696533203,
          0.4422664642333984,
          0.4618167877197265,
          0.4565715789794922,
          0.3972053527832031,
          0.5257129669189453,
          0.4739761352539062,
          0.6082057952880859,
          0.5474090576171875,
          0.4935264587402344,
          15.785932540893556,
          0.5197525024414062,
          15.832185745239258,
          15.89679718017578,
          15.78998565673828,
          15.85841178894043,
          0.4124641418457031,
          15.840768814086914,
          0.5021095275878906,
          0.42724609375,
          0.486612319946289,
          0.5118846893310547,
          0.478982925415039,
          0.5118846893310547,
          0.5805492401123047,
          0.4608631134033203,
          14.923810958862305,
          0.7176399230957031,
          0.4351139068603515,
          0.514984130859375,
          0.4467964172363281,
          0.5066394805908203,
          0.3676414489746094,
          0.4606246948242187,
          0.4761219024658203,
          0.5044937133789062,
          0.4608631134033203,
          0.4551410675048828
         ],
         "y0": " ",
         "yaxis": "y4"
        }
       ],
       "layout": {
        "annotations": [
         {
          "font": {
           "size": 16
          },
          "showarrow": false,
          "text": "cummulated distance final (m) <br> std = 0.06 m",
          "x": 0.10625,
          "xanchor": "center",
          "xref": "paper",
          "y": 1,
          "yanchor": "bottom",
          "yref": "paper"
         },
         {
          "font": {
           "size": 16
          },
          "showarrow": false,
          "text": "error horizontal final (m) <br> std = 0.2 m",
          "x": 0.36875,
          "xanchor": "center",
          "xref": "paper",
          "y": 1,
          "yanchor": "bottom",
          "yref": "paper"
         },
         {
          "font": {
           "size": 16
          },
          "showarrow": false,
          "text": "error orientation final (deg) <br> std = 1 deg",
          "x": 0.6312500000000001,
          "xanchor": "center",
          "xref": "paper",
          "y": 1,
          "yanchor": "bottom",
          "yref": "paper"
         },
         {
          "font": {
           "size": 16
          },
          "showarrow": false,
          "text": "time delta max (ms) <br> std = 6 ms",
          "x": 0.89375,
          "xanchor": "center",
          "xref": "paper",
          "y": 1,
          "yanchor": "bottom",
          "yref": "paper"
         }
        ],
        "template": {
         "data": {
          "pie": [
           {
            "automargin": true,
            "type": "pie"
           }
          ],
          "scatter": [
           {
            "line": {
             "width": 3
            },
            "marker": {
             "size": 9
            },
            "type": "scatter"
           }
          ],
          "scatter3d": [
           {
            "line": {
             "width": 3
            },
            "marker": {
             "size": 9
            },
            "type": "scatter3d"
           }
          ],
          "scattergeo": [
           {
            "line": {
             "width": 3
            },
            "marker": {
             "size": 9
            },
            "type": "scattergeo"
           }
          ],
          "scattergl": [
           {
            "line": {
             "width": 3
            },
            "marker": {
             "size": 9
            },
            "type": "scattergl"
           }
          ],
          "scatterpolar": [
           {
            "line": {
             "width": 3
            },
            "marker": {
             "size": 9
            },
            "type": "scatterpolar"
           }
          ],
          "scatterpolargl": [
           {
            "line": {
             "width": 3
            },
            "marker": {
             "size": 9
            },
            "type": "scatterpolargl"
           }
          ],
          "scatterternary": [
           {
            "line": {
             "width": 3
            },
            "marker": {
             "size": 9
            },
            "type": "scatterternary"
           }
          ],
          "table": [
           {
            "cells": {
             "height": 30
            },
            "header": {
             "height": 36
            },
            "type": "table"
           }
          ]
         },
         "layout": {
          "font": {
           "size": 18
          },
          "xaxis": {
           "title": {
            "standoff": 15
           }
          },
          "yaxis": {
           "title": {
            "standoff": 15
           }
          }
         }
        },
        "title": {
         "text": "Basic statistics for each metric"
        },
        "xaxis": {
         "anchor": "y",
         "domain": [
          0,
          0.2125
         ]
        },
        "xaxis2": {
         "anchor": "y2",
         "domain": [
          0.2625,
          0.475
         ]
        },
        "xaxis3": {
         "anchor": "y3",
         "domain": [
          0.525,
          0.7375
         ]
        },
        "xaxis4": {
         "anchor": "y4",
         "domain": [
          0.7875,
          1
         ]
        },
        "yaxis": {
         "anchor": "x",
         "domain": [
          0,
          1
         ]
        },
        "yaxis2": {
         "anchor": "x2",
         "domain": [
          0,
          1
         ]
        },
        "yaxis3": {
         "anchor": "x3",
         "domain": [
          0,
          1
         ]
        },
        "yaxis4": {
         "anchor": "x4",
         "domain": [
          0,
          1
         ]
        }
       }
      }
     },
     "metadata": {},
     "output_type": "display_data"
    }
   ],
   "source": [
    "fig"
   ]
  },
  {
   "cell_type": "code",
   "execution_count": 10,
   "id": "ebf12dc9",
   "metadata": {},
   "outputs": [
    {
     "data": {
      "application/vnd.plotly.v1+json": {
       "config": {
        "plotlyServerURL": "https://plot.ly"
       },
       "data": [
        {
         "alignmentgroup": "True",
         "boxpoints": "all",
         "hovertemplate": "metric:cummulated_distance_final_m=%{y}<extra></extra>",
         "legendgroup": "",
         "marker": {
          "color": "#636efa"
         },
         "name": "",
         "notched": false,
         "offsetgroup": "",
         "orientation": "v",
         "showlegend": false,
         "type": "box",
         "x0": " ",
         "xaxis": "x",
         "y": [
          20.479999865645077,
          20.39999990194053,
          20.39999990194053,
          20.479999865645077,
          20.399999728384746,
          20.399999728384746,
          20.399999728384746,
          20.399999728384746,
          20.39999990194053,
          20.479999865645077,
          20.399999728384746,
          20.399999728384746,
          20.479999865645077,
          20.39999990194053,
          20.39999990194053,
          20.479999865645077,
          20.479999865645077,
          20.399999728384746,
          20.399999728384746,
          20.479999865645077,
          19.999999688175127,
          20.39999990194053,
          20.39999990194053,
          20.479999865645077,
          20.39999990194053,
          20.39999990194053,
          20.23999993198569,
          20.479999865645077,
          20.479999865645077,
          20.39999990194053,
          20.39999990194053,
          20.399999815158612,
          20.479999865645077,
          20.399999815158612,
          20.39999990194053,
          20.39999990194053,
          20.479999865645077,
          20.3199999411867,
          20.239999861766844,
          20.399999728384746,
          20.39999990194053,
          20.399999728384746,
          20.47999986674125,
          20.239999861766844,
          20.47999986674125,
          20.479999865645077,
          20.39999990194053,
          20.39999990194053,
          20.399999728384746,
          20.39999990194053
         ],
         "y0": " ",
         "yaxis": "y"
        },
        {
         "alignmentgroup": "True",
         "boxpoints": "all",
         "hovertemplate": "metric:error_horizontal_final_m=%{y}<extra></extra>",
         "legendgroup": "",
         "marker": {
          "color": "#636efa"
         },
         "name": "",
         "notched": false,
         "offsetgroup": "",
         "orientation": "v",
         "showlegend": false,
         "type": "box",
         "x0": " ",
         "xaxis": "x2",
         "y": [
          0.0127348249633028,
          0.0147810054738524,
          0.0147810054738524,
          0.0127348249633028,
          0.0213308173623577,
          0.0213308173623577,
          0.0213308173623577,
          0.0213308173623577,
          0.0147810054738524,
          0.0127348249633028,
          0.0213308173623577,
          0.0213308173623577,
          0.0127348249633028,
          0.0147810054738524,
          0.0147810054738524,
          0.0127348249633028,
          0.0127348249633028,
          0.0213308173623577,
          0.0213308173623577,
          0.0127348249633028,
          0.0218775758960504,
          0.0147810054738524,
          0.0147810054738524,
          0.0127348249633028,
          0.0147810054738524,
          0.0147810054738524,
          0.029190319243251,
          0.0127348249633028,
          0.0127348249633028,
          0.0147810054738524,
          0.0147810054738524,
          0.0212665199601985,
          0.0127348249633028,
          0.0212665199601985,
          0.0147810054738524,
          0.0147810054738524,
          0.0127348249633028,
          0.029190319243251,
          0.0147813834212762,
          0.0213308173623577,
          0.0147810054738524,
          0.0213308173623577,
          0.0127353013744041,
          0.0147813834212762,
          0.0127353013744041,
          0.0127348249633028,
          0.0147810054738524,
          0.0147810054738524,
          0.0213308173623577,
          0.0147810054738524
         ],
         "y0": " ",
         "yaxis": "y2"
        },
        {
         "alignmentgroup": "True",
         "boxpoints": "all",
         "hovertemplate": "metric:error_orientation_final_deg=%{y}<extra></extra>",
         "legendgroup": "",
         "marker": {
          "color": "#636efa"
         },
         "name": "",
         "notched": false,
         "offsetgroup": "",
         "orientation": "v",
         "showlegend": false,
         "type": "box",
         "x0": " ",
         "xaxis": "x3",
         "y": [
          0,
          0,
          0,
          0,
          0,
          0,
          0,
          0,
          0,
          0,
          0,
          0,
          0,
          0,
          0,
          0,
          0,
          0,
          0,
          0,
          0,
          0,
          0,
          0,
          0,
          0,
          0,
          0,
          0,
          0,
          0,
          0,
          0,
          0,
          0,
          0,
          0,
          0,
          0,
          0,
          0,
          0,
          0,
          0,
          0,
          0,
          0,
          0,
          0,
          0
         ],
         "y0": " ",
         "yaxis": "y3"
        },
        {
         "alignmentgroup": "True",
         "boxpoints": "all",
         "hovertemplate": "metric:time_delta_max_ms=%{y}<extra></extra>",
         "legendgroup": "",
         "marker": {
          "color": "#636efa"
         },
         "name": "",
         "notched": false,
         "offsetgroup": "",
         "orientation": "v",
         "showlegend": false,
         "type": "box",
         "x0": " ",
         "xaxis": "x4",
         "y": [
          95.86358070373537,
          96.69208526611328,
          95.88074684143066,
          96.7714786529541,
          96.86493873596191,
          96.78792953491212,
          96.80533409118652,
          95.66807746887208,
          95.76869010925292,
          96.87328338623048,
          96.43125534057616,
          96.90380096435548,
          95.82161903381348,
          95.80206871032716,
          96.67849540710448,
          95.656156539917,
          95.74532508850098,
          96.66037559509276,
          96.82965278625488,
          95.7174301147461,
          96.83680534362792,
          96.82488441467284,
          96.77457809448242,
          96.7257022857666,
          96.72999382019044,
          95.7334041595459,
          95.92056274414062,
          95.83711624145508,
          96.80676460266112,
          95.9010124206543,
          96.85325622558594,
          95.80469131469728,
          96.86803817749023,
          96.87042236328124,
          96.36831283569336,
          96.79198265075684,
          95.7646369934082,
          96.78196907043456,
          96.69256210327148,
          96.7276096343994,
          95.75486183166504,
          95.8704948425293,
          95.60847282409668,
          96.6510772705078,
          95.69263458251952,
          96.42171859741212,
          95.86167335510254,
          96.8618392944336,
          95.80278396606444,
          96.32492065429688
         ],
         "y0": " ",
         "yaxis": "y4"
        }
       ],
       "layout": {
        "annotations": [
         {
          "font": {
           "size": 16
          },
          "showarrow": false,
          "text": "cummulated distance final (m) <br> std = 0.08 m",
          "x": 0.10625,
          "xanchor": "center",
          "xref": "paper",
          "y": 1,
          "yanchor": "bottom",
          "yref": "paper"
         },
         {
          "font": {
           "size": 16
          },
          "showarrow": false,
          "text": "error horizontal final (m) <br> std = 0.004 m",
          "x": 0.36875,
          "xanchor": "center",
          "xref": "paper",
          "y": 1,
          "yanchor": "bottom",
          "yref": "paper"
         },
         {
          "font": {
           "size": 16
          },
          "showarrow": false,
          "text": "error orientation final (deg) <br> std = 0 deg",
          "x": 0.6312500000000001,
          "xanchor": "center",
          "xref": "paper",
          "y": 1,
          "yanchor": "bottom",
          "yref": "paper"
         },
         {
          "font": {
           "size": 16
          },
          "showarrow": false,
          "text": "time delta max (ms) <br> std = 0.5 ms",
          "x": 0.89375,
          "xanchor": "center",
          "xref": "paper",
          "y": 1,
          "yanchor": "bottom",
          "yref": "paper"
         }
        ],
        "template": {
         "data": {
          "pie": [
           {
            "automargin": true,
            "type": "pie"
           }
          ],
          "scatter": [
           {
            "line": {
             "width": 3
            },
            "marker": {
             "size": 9
            },
            "type": "scatter"
           }
          ],
          "scatter3d": [
           {
            "line": {
             "width": 3
            },
            "marker": {
             "size": 9
            },
            "type": "scatter3d"
           }
          ],
          "scattergeo": [
           {
            "line": {
             "width": 3
            },
            "marker": {
             "size": 9
            },
            "type": "scattergeo"
           }
          ],
          "scattergl": [
           {
            "line": {
             "width": 3
            },
            "marker": {
             "size": 9
            },
            "type": "scattergl"
           }
          ],
          "scatterpolar": [
           {
            "line": {
             "width": 3
            },
            "marker": {
             "size": 9
            },
            "type": "scatterpolar"
           }
          ],
          "scatterpolargl": [
           {
            "line": {
             "width": 3
            },
            "marker": {
             "size": 9
            },
            "type": "scatterpolargl"
           }
          ],
          "scatterternary": [
           {
            "line": {
             "width": 3
            },
            "marker": {
             "size": 9
            },
            "type": "scatterternary"
           }
          ],
          "table": [
           {
            "cells": {
             "height": 30
            },
            "header": {
             "height": 36
            },
            "type": "table"
           }
          ]
         },
         "layout": {
          "font": {
           "size": 18
          },
          "xaxis": {
           "title": {
            "standoff": 15
           }
          },
          "yaxis": {
           "title": {
            "standoff": 15
           }
          }
         }
        },
        "title": {
         "text": "Basic statistics for each metric"
        },
        "xaxis": {
         "anchor": "y",
         "domain": [
          0,
          0.2125
         ]
        },
        "xaxis2": {
         "anchor": "y2",
         "domain": [
          0.2625,
          0.475
         ]
        },
        "xaxis3": {
         "anchor": "y3",
         "domain": [
          0.525,
          0.7375
         ]
        },
        "xaxis4": {
         "anchor": "y4",
         "domain": [
          0.7875,
          1
         ]
        },
        "yaxis": {
         "anchor": "x",
         "domain": [
          0,
          1
         ]
        },
        "yaxis2": {
         "anchor": "x2",
         "domain": [
          0,
          1
         ]
        },
        "yaxis3": {
         "anchor": "x3",
         "domain": [
          0,
          1
         ]
        },
        "yaxis4": {
         "anchor": "x4",
         "domain": [
          0,
          1
         ]
        }
       }
      }
     },
     "metadata": {},
     "output_type": "display_data"
    }
   ],
   "source": [
    "fig"
   ]
  },
  {
   "cell_type": "code",
   "execution_count": 68,
   "id": "c1b1e1d7",
   "metadata": {},
   "outputs": [
    {
     "data": {
      "application/vnd.plotly.v1+json": {
       "config": {
        "plotlyServerURL": "https://plot.ly"
       },
       "data": [
        {
         "mode": "markers",
         "name": "error horizontal final (m)",
         "type": "scatter",
         "x": [
          0,
          1,
          2,
          3,
          4,
          5,
          6,
          7,
          8,
          9,
          10,
          11,
          12,
          13,
          14,
          15,
          16,
          17,
          18,
          19,
          20,
          21,
          22,
          23,
          24,
          25,
          26,
          27,
          28,
          29,
          30,
          31,
          32,
          33,
          34,
          35,
          36,
          37,
          38,
          39,
          40,
          41,
          42,
          43,
          44,
          45,
          46,
          47
         ],
         "xaxis": "x",
         "y": [
          0.0902369291191322,
          0.4384517639462004,
          0.3750755075838626,
          0.955351368941839,
          0.7209144261017881,
          0.9807569039428502,
          6.856775964886494,
          14.460492062406072,
          0.1255761567957414,
          0.2440996566395592,
          0.8410887800683982,
          1.8795563857344124,
          0.5768937600760317,
          0.7191011116080296,
          2.2445173202177835,
          1.987387629038396,
          14.425860752261269,
          0.0161285223359939,
          0.2758937496818166,
          0.5042864655684148,
          2.066343258562839,
          2.432580219682861,
          3.01479607469038,
          1.4872172095983958,
          6.51701287164646,
          12.060721142974318,
          0.448038588644953,
          0.3821364553818682,
          0.7232820898131642,
          1.1068010950858165,
          2.9036568939569585,
          0.315981271707225,
          7.812345964061001,
          7.103358687792031,
          1.0490076495460012,
          1.014442729381445,
          0.9845406923224952,
          1.3142932579253317,
          1.2398410310356782,
          0.8686965803425406,
          3.1019176389780863,
          7.646349956391229,
          13.651542305276616,
          1.6293147221572295,
          4.837369105382222,
          4.830068745949895,
          0.2407544951712795,
          0.1892304867739529
         ],
         "yaxis": "y"
        },
        {
         "mode": "markers",
         "name": "error orientation final (deg)",
         "type": "scatter",
         "x": [
          0,
          1,
          2,
          3,
          4,
          5,
          6,
          7,
          8,
          9,
          10,
          11,
          12,
          13,
          14,
          15,
          16,
          17,
          18,
          19,
          20,
          21,
          22,
          23,
          24,
          25,
          26,
          27,
          28,
          29,
          30,
          31,
          32,
          33,
          34,
          35,
          36,
          37,
          38,
          39,
          40,
          41,
          42,
          43,
          44,
          45,
          46,
          47
         ],
         "xaxis": "x",
         "y": [
          0.2956105872781518,
          3.5098361389836223,
          1.870071643803641,
          8.342495505091124,
          5.776605169781604,
          7.82622199629737,
          62.79618378565966,
          177.9436399555406,
          0.6589561605553201,
          1.4192791585827995,
          7.580143940880151,
          14.48437236149584,
          4.976899300999831,
          4.606238595121579,
          17.859865509694483,
          16.93749627360845,
          155.71383990543947,
          0.6400297063652148,
          0.7744751499877458,
          3.698909435587915,
          17.090403718557525,
          22.491280182096727,
          23.47778489448918,
          11.646872723651592,
          53.712334425413474,
          121.15472878076493,
          0.3810357632275013,
          0.1479077464766261,
          4.248261550532041,
          12.873813755206834,
          23.21422155479673,
          2.9384839847228856,
          59.77806150276172,
          62.02262558856798,
          8.951809850758792,
          1.8069606958727236,
          0.3852021786212091,
          4.648421843435578,
          9.329956443967378,
          2.3062133732548054,
          16.48323405228924,
          72.67970144864718,
          169.50237308486192,
          13.876280619689604,
          38.02736507199113,
          37.37691249695248,
          0.9238991984601148,
          1.110861966610874
         ],
         "yaxis": "y2"
        }
       ],
       "layout": {
        "template": {
         "data": {
          "pie": [
           {
            "automargin": true,
            "type": "pie"
           }
          ],
          "scatter": [
           {
            "line": {
             "width": 3
            },
            "marker": {
             "size": 9
            },
            "type": "scatter"
           }
          ],
          "scatter3d": [
           {
            "line": {
             "width": 3
            },
            "marker": {
             "size": 9
            },
            "type": "scatter3d"
           }
          ],
          "scattergeo": [
           {
            "line": {
             "width": 3
            },
            "marker": {
             "size": 9
            },
            "type": "scattergeo"
           }
          ],
          "scattergl": [
           {
            "line": {
             "width": 3
            },
            "marker": {
             "size": 9
            },
            "type": "scattergl"
           }
          ],
          "scatterpolar": [
           {
            "line": {
             "width": 3
            },
            "marker": {
             "size": 9
            },
            "type": "scatterpolar"
           }
          ],
          "scatterpolargl": [
           {
            "line": {
             "width": 3
            },
            "marker": {
             "size": 9
            },
            "type": "scatterpolargl"
           }
          ],
          "scatterternary": [
           {
            "line": {
             "width": 3
            },
            "marker": {
             "size": 9
            },
            "type": "scatterternary"
           }
          ],
          "table": [
           {
            "cells": {
             "height": 30
            },
            "header": {
             "height": 36
            },
            "type": "table"
           }
          ]
         },
         "layout": {
          "font": {
           "size": 18
          },
          "xaxis": {
           "title": {
            "standoff": 15
           }
          },
          "yaxis": {
           "title": {
            "standoff": 15
           }
          }
         }
        },
        "title": {
         "text": "Metrics Comparison For Each Scenario of the Grid Search"
        },
        "xaxis": {
         "anchor": "y",
         "domain": [
          0,
          0.94
         ],
         "title": {
          "text": "scenario result index"
         }
        },
        "yaxis": {
         "anchor": "x",
         "domain": [
          0,
          1
         ],
         "title": {
          "text": "m"
         }
        },
        "yaxis2": {
         "anchor": "x",
         "overlaying": "y",
         "side": "right",
         "title": {
          "text": "deg"
         }
        }
       }
      }
     },
     "metadata": {},
     "output_type": "display_data"
    }
   ],
   "source": [
    "fig = make_subplots(specs=[[{\"secondary_y\": True}]])\n",
    "fig.add_trace(\n",
    "    go.Scatter(x=list(df.index), y=df[metrics[1]], name=metric_titles[1], mode='markers'),\n",
    "    secondary_y=False,\n",
    ")\n",
    "\n",
    "fig.add_trace(\n",
    "    go.Scatter(x=list(df.index), y=df[metrics[2]], name=metric_titles[2], mode='markers'),\n",
    "    secondary_y=True,\n",
    ")\n",
    "fig.update_xaxes(title_text=\"scenario result index\")\n",
    "fig.update_yaxes(title_text=metric_units[1], secondary_y=False)\n",
    "fig.update_yaxes(title_text=metric_units[2], secondary_y=True)\n",
    "\n",
    "fig.update_layout(template='presentation', title_text=\"Metrics Comparison For Each Scenario of the Grid Search\")\n",
    "fig"
   ]
  }
 ],
 "metadata": {
  "kernelspec": {
   "display_name": "Python 3.10.6 64-bit ('main')",
   "language": "python",
   "name": "python3"
  },
  "language_info": {
   "codemirror_mode": {
    "name": "ipython",
    "version": 3
   },
   "file_extension": ".py",
   "mimetype": "text/x-python",
   "name": "python",
   "nbconvert_exporter": "python",
   "pygments_lexer": "ipython3",
   "version": "3.10.6"
  },
  "toc": {
   "base_numbering": 1,
   "nav_menu": {},
   "number_sections": true,
   "sideBar": true,
   "skip_h1_title": false,
   "title_cell": "Table of Contents",
   "title_sidebar": "Contents",
   "toc_cell": false,
   "toc_position": {},
   "toc_section_display": true,
   "toc_window_display": false
  },
  "vscode": {
   "interpreter": {
    "hash": "4c6f7d0c76c424f824ec14bf902c5204aee39242d9e85f0d116d09b06dd7e26b"
   }
  }
 },
 "nbformat": 4,
 "nbformat_minor": 5
}
